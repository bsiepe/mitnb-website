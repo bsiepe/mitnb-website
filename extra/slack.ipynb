{
  "cells": [
    {
      "cell_type": "raw",
      "metadata": {},
      "source": [
        "---\n",
        "title: \"\"\n",
        "description-meta: \"Form to join our slack\"\n",
        "---"
      ],
      "id": "3e94c254"
    },
    {
      "cell_type": "markdown",
      "metadata": {},
      "source": [
        "```{css echo=FALSE}\n",
        ".column {\n",
        "text-align: center;\n",
        "}\n",
        "```\n",
        "\n",
        "\n",
        "::: {.columns}\n",
        "::: {.column width=\"45%\"}\n",
        "![](/files/images/slack.svg)\n",
        ":::\n",
        "\n",
        "::: {.column width=\"10%\"}\n",
        ":::\n",
        "\n",
        "::: {.column width=\"45%\"}\n",
        "## Join our slack\n",
        "\n",
        "If you want to get involved in our group and participate in discussions we recommend to join our Slack community! The easiest way to join is to fill out the form below. We will quickly review the information and send you an invitation as soon as possible.\n",
        "\n",
        "\n",
        "```{=html}\n",
        "<div>\n",
        "<a name=\"form724085728\" id=\"formAnchor724085728\"></a>\n",
        "<script src=\"https://fs16.formsite.com/include/form/embedManager.js?724085728\"></script>\n",
        "<script>\n",
        "EmbedManager.embed({\n",
        "    key: \"https://fs16.formsite.com/res/showFormEmbed?EParam=B6fiTn-RcO44qwGmLBDYYEHp-Oxx3Si2&724085728\",\n",
        "    width: \"100%\"\n",
        "});\n",
        "</script>\n",
        "</div>\n",
        "```\n",
        "\n",
        ":::\n",
        ":::"
      ],
      "id": "4f137c3d"
    }
  ],
  "metadata": {
    "kernelspec": {
      "display_name": "Python 3",
      "language": "python",
      "name": "python3"
    }
  },
  "nbformat": 4,
  "nbformat_minor": 5
}