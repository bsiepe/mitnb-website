{
  "cells": [
    {
      "cell_type": "raw",
      "metadata": {},
      "source": [
        "---\n",
        "title: \"Projects\"\n",
        "description-meta: \"Ongoing Projects connected with MITNB\"\n",
        "---"
      ],
      "id": "91a7beb4"
    },
    {
      "cell_type": "markdown",
      "metadata": {},
      "source": [
        "## Example Project 1\n",
        "\n",
        "\n",
        "```{html}\n",
        "<img src=\"files/images/mitnb-logo.png\" style=\"height: 100%; width: 100%; object-fit: contain\"/>\n",
        "```\n",
        "\n",
        "\n",
        "\n",
        "\n",
        "\n",
        "\n",
        "\n",
        "## Example Project 2"
      ],
      "id": "f170e65f"
    }
  ],
  "metadata": {
    "kernelspec": {
      "display_name": "Python 3",
      "language": "python",
      "name": "python3"
    }
  },
  "nbformat": 4,
  "nbformat_minor": 5
}